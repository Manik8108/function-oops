{
 "cells": [
  {
   "cell_type": "code",
   "execution_count": null,
   "id": "2cae6ebc-111f-46ab-b8be-bc53759e25ad",
   "metadata": {},
   "outputs": [],
   "source": [
    "1.# Explain the importance of functions?\n",
    "#It is a block of code that perform some specific task.It keeps your code neat nd clean,organise and reusable.Their complexity are better self-contained in a sub-program and called when needed.\n",
    "#syntax: def func():\n",
    "             #do something\n",
    "             #do something\n",
    "             #return"
   ]
  },
  {
   "cell_type": "code",
   "execution_count": 2,
   "id": "0d99da22-cd0f-464c-8f26-1765f4c97f50",
   "metadata": {},
   "outputs": [],
   "source": [
    "2.# Write a basic function to greet students?\n",
    "def greet(students):\n",
    "    print(\"welcome to class\", students)"
   ]
  },
  {
   "cell_type": "code",
   "execution_count": 3,
   "id": "cee9a68b-90d8-4cb8-ad95-c9195ffbfb61",
   "metadata": {},
   "outputs": [
    {
     "name": "stdout",
     "output_type": "stream",
     "text": [
      "welcome to class Sonia\n"
     ]
    }
   ],
   "source": [
    "greet(\"Sonia\")"
   ]
  },
  {
   "cell_type": "code",
   "execution_count": 4,
   "id": "972ec07b-470b-4259-a26d-3c534cc2349e",
   "metadata": {},
   "outputs": [
    {
     "name": "stdout",
     "output_type": "stream",
     "text": [
      "welcome to class Pravya\n"
     ]
    }
   ],
   "source": [
    "greet(\"Pravya\")"
   ]
  },
  {
   "cell_type": "code",
   "execution_count": 14,
   "id": "945a1e67-5f4c-447d-a0ad-6442b6b2681d",
   "metadata": {
    "tags": []
   },
   "outputs": [],
   "source": [
    "3.# What is the difference between print and return statements?\n",
    "# print statement >> It is used to display output on the console.It can be  used multiple times in a function but does not affect the functions return value.\n",
    "# example: \n",
    "def func(name):\n",
    "    print(\"Hello\",name)"
   ]
  },
  {
   "cell_type": "code",
   "execution_count": 15,
   "id": "36bc5384-4551-41e3-a93c-8b63109978bb",
   "metadata": {},
   "outputs": [
    {
     "name": "stdout",
     "output_type": "stream",
     "text": [
      "Hello anaya\n"
     ]
    }
   ],
   "source": [
    "func(\"anaya\")"
   ]
  },
  {
   "cell_type": "code",
   "execution_count": 7,
   "id": "25e95397-d6e1-4106-abbf-fff572b7a544",
   "metadata": {},
   "outputs": [
    {
     "name": "stdout",
     "output_type": "stream",
     "text": [
      "10\n"
     ]
    }
   ],
   "source": [
    "# return statement >> It is used to exit a function and return a value.It can be used multiple times in a function but only one value can be returned at a time.\n",
    "#example:\n",
    "def add(a,b):\n",
    "    return(a+b)\n",
    "result = add(4,6)\n",
    "print(result)"
   ]
  },
  {
   "cell_type": "code",
   "execution_count": 18,
   "id": "d9bba33a-aaba-4761-ab01-c480bf97f6f7",
   "metadata": {},
   "outputs": [],
   "source": [
    "4.#What are *args and *kwargs?\n",
    "#*args >> *args(arguments) allow you to pass a variable number of positional arguments to a function.\n",
    "#example:\n",
    "def my_fun(*args):\n",
    "    for i in args:\n",
    "        print(i)"
   ]
  },
  {
   "cell_type": "code",
   "execution_count": 19,
   "id": "2c2bfedd-b221-48fc-b3cf-68311463aae6",
   "metadata": {},
   "outputs": [
    {
     "name": "stdout",
     "output_type": "stream",
     "text": [
      "Hello\n",
      "Thank you\n",
      "Welcome\n"
     ]
    }
   ],
   "source": [
    "my_fun(\"Hello\",\"Thank you\", \"Welcome\")"
   ]
  },
  {
   "cell_type": "code",
   "execution_count": 16,
   "id": "1c1384e2-9082-488c-996b-e5d3a7b0ecb0",
   "metadata": {},
   "outputs": [],
   "source": [
    "#**kwargs >> **kwargs(keyword argument) allow you to pass a variable number of keyword arguments(key-value pairs)to a function.\n",
    "#example:\n",
    "def kwarg_func(**kwargs):\n",
    "    return kwargs"
   ]
  },
  {
   "cell_type": "code",
   "execution_count": 17,
   "id": "b84175fe-db8f-48f9-b7b7-f243992f131d",
   "metadata": {},
   "outputs": [
    {
     "data": {
      "text/plain": [
       "{'a': 4, 'b': 7}"
      ]
     },
     "execution_count": 17,
     "metadata": {},
     "output_type": "execute_result"
    }
   ],
   "source": [
    "kwarg_func(a = 4, b = 7)"
   ]
  },
  {
   "cell_type": "code",
   "execution_count": 21,
   "id": "5094c36c-df41-499f-9aee-fcd721a5a934",
   "metadata": {},
   "outputs": [
    {
     "name": "stdout",
     "output_type": "stream",
     "text": [
      "1\n",
      "2\n",
      "3\n",
      "Manik\n",
      "True\n"
     ]
    }
   ],
   "source": [
    "5.#Explain the iterator function?\n",
    "# In python an iterator is an object that allows you to iterate over collection of data such as tuples,lists,sets and dictinaries.\n",
    "#example:\n",
    "list = [1,2,3,\"Manik\", \"True\"]\n",
    "for i in list:\n",
    "    print(i)"
   ]
  },
  {
   "cell_type": "code",
   "execution_count": 1,
   "id": "396e449c-f534-42d3-b7b2-35a17db55990",
   "metadata": {},
   "outputs": [
    {
     "data": {
      "text/plain": [
       "[0, 1, 4, 9, 16, 25]"
      ]
     },
     "execution_count": 1,
     "metadata": {},
     "output_type": "execute_result"
    }
   ],
   "source": [
    "6.#Write a code that generates the squares of numbers from 1 to n using a generator?\n",
    "def sq_num(n):\n",
    "    result = []\n",
    "    for i in range(n):\n",
    "        result.append(i**2)\n",
    "    return result    \n",
    "sq_num(6)"
   ]
  },
  {
   "cell_type": "code",
   "execution_count": 2,
   "id": "0a090847-d804-471e-9d61-9bfc7d282b60",
   "metadata": {},
   "outputs": [],
   "source": [
    "def sq_gen_num(n):\n",
    "    for i in range(n):\n",
    "        yield i**2"
   ]
  },
  {
   "cell_type": "code",
   "execution_count": 4,
   "id": "7eb18e79-b28e-4244-9f91-e8c860843d6b",
   "metadata": {},
   "outputs": [],
   "source": [
    "gen = sq_gen_num(6)"
   ]
  },
  {
   "cell_type": "code",
   "execution_count": 5,
   "id": "987c5450-6938-4aa2-90d9-3dcade711b96",
   "metadata": {},
   "outputs": [
    {
     "data": {
      "text/plain": [
       "<generator object sq_gen_num at 0x7fbd233e95b0>"
      ]
     },
     "execution_count": 5,
     "metadata": {},
     "output_type": "execute_result"
    }
   ],
   "source": [
    "gen"
   ]
  },
  {
   "cell_type": "code",
   "execution_count": 6,
   "id": "df4ea64b-6995-4610-bc29-943fabe017b8",
   "metadata": {},
   "outputs": [
    {
     "data": {
      "text/plain": [
       "0"
      ]
     },
     "execution_count": 6,
     "metadata": {},
     "output_type": "execute_result"
    }
   ],
   "source": [
    "next(gen)"
   ]
  },
  {
   "cell_type": "code",
   "execution_count": 7,
   "id": "16d52f7d-e8ea-4b91-9f5b-6470fd9b1864",
   "metadata": {},
   "outputs": [
    {
     "data": {
      "text/plain": [
       "1"
      ]
     },
     "execution_count": 7,
     "metadata": {},
     "output_type": "execute_result"
    }
   ],
   "source": [
    "next(gen)"
   ]
  },
  {
   "cell_type": "code",
   "execution_count": 8,
   "id": "f06e5466-45dc-4f1a-a021-c6e1e657b5ae",
   "metadata": {},
   "outputs": [
    {
     "data": {
      "text/plain": [
       "4"
      ]
     },
     "execution_count": 8,
     "metadata": {},
     "output_type": "execute_result"
    }
   ],
   "source": [
    "next(gen)"
   ]
  },
  {
   "cell_type": "code",
   "execution_count": 13,
   "id": "08195f0a-35fb-49dd-84d5-62aa520315da",
   "metadata": {},
   "outputs": [
    {
     "data": {
      "text/plain": [
       "range(1, 10)"
      ]
     },
     "execution_count": 13,
     "metadata": {},
     "output_type": "execute_result"
    }
   ],
   "source": [
    "range(1,10)"
   ]
  },
  {
   "cell_type": "code",
   "execution_count": 14,
   "id": "32a3162b-c2b3-44be-aa22-129e4c9a71d5",
   "metadata": {},
   "outputs": [
    {
     "name": "stdout",
     "output_type": "stream",
     "text": [
      "1\n",
      "2\n",
      "3\n",
      "4\n",
      "5\n",
      "6\n",
      "7\n",
      "8\n",
      "9\n"
     ]
    }
   ],
   "source": [
    "for i in range(1,10):\n",
    "    print(i)"
   ]
  },
  {
   "cell_type": "code",
   "execution_count": 14,
   "id": "aeb154bc-f578-472b-b00f-c3bc77ce677e",
   "metadata": {},
   "outputs": [
    {
     "name": "stdin",
     "output_type": "stream",
     "text": [
      "input a number: 121\n"
     ]
    }
   ],
   "source": [
    "7.#Write a code that generates the palindromic numbers up to n using a generator?\n",
    "def palindrome(n):\n",
    "    return str(n) == str(n)[::-1]\n",
    "        if palindrome(num):\n",
    "            yield num\n",
    "        num+= 1\n",
    "n = int(input(\"input a number:\"))"
   ]
  },
  {
   "cell_type": "code",
   "execution_count": 12,
   "id": "31a8fa88-981c-47ab-87c3-c56c949e31b8",
   "metadata": {},
   "outputs": [
    {
     "name": "stdout",
     "output_type": "stream",
     "text": [
      "2\n",
      "4\n",
      "6\n",
      "8\n",
      "10\n",
      "12\n",
      "14\n",
      "16\n",
      "18\n",
      "20\n",
      "22\n",
      "24\n",
      "26\n",
      "28\n",
      "30\n",
      "32\n",
      "34\n",
      "36\n",
      "38\n",
      "40\n",
      "42\n",
      "44\n",
      "46\n",
      "48\n",
      "50\n",
      "52\n",
      "54\n",
      "56\n",
      "58\n",
      "60\n",
      "62\n",
      "64\n",
      "66\n",
      "68\n",
      "70\n",
      "72\n",
      "74\n",
      "76\n",
      "78\n",
      "80\n",
      "82\n",
      "84\n",
      "86\n",
      "88\n",
      "90\n",
      "92\n",
      "94\n",
      "96\n",
      "98\n",
      "100\n",
      "102\n",
      "104\n",
      "106\n",
      "108\n",
      "110\n",
      "112\n",
      "114\n",
      "116\n",
      "118\n",
      "120\n",
      "122\n",
      "124\n",
      "126\n",
      "128\n",
      "130\n",
      "132\n",
      "134\n",
      "136\n",
      "138\n",
      "140\n",
      "142\n",
      "144\n",
      "146\n",
      "148\n",
      "150\n",
      "152\n",
      "154\n",
      "156\n",
      "158\n",
      "160\n",
      "162\n",
      "164\n",
      "166\n",
      "168\n",
      "170\n",
      "172\n",
      "174\n",
      "176\n",
      "178\n",
      "180\n"
     ]
    }
   ],
   "source": [
    "8.#Write a code that generates the even numbers from 2 to n using a generator?\n",
    "def evenNum(n):\n",
    "    num = 2\n",
    "    while num <= n:\n",
    "        yield num\n",
    "        num += 2\n",
    "for i in evenNum(n):\n",
    "    print(i)"
   ]
  },
  {
   "cell_type": "code",
   "execution_count": null,
   "id": "b17ceee2-271d-4d54-89de-a9f62bdfa054",
   "metadata": {},
   "outputs": [],
   "source": [
    "9.#Write a code that generates powers of two up to n using a generator?\n"
   ]
  },
  {
   "cell_type": "code",
   "execution_count": 23,
   "id": "bc8d1682-3e02-47c0-b81e-f788091bfb82",
   "metadata": {},
   "outputs": [
    {
     "ename": "NameError",
     "evalue": "name 'is_prime' is not defined",
     "output_type": "error",
     "traceback": [
      "\u001b[0;31m---------------------------------------------------------------------------\u001b[0m",
      "\u001b[0;31mNameError\u001b[0m                                 Traceback (most recent call last)",
      "Cell \u001b[0;32mIn[23], line 10\u001b[0m\n\u001b[1;32m      8\u001b[0m generator \u001b[38;5;241m=\u001b[39m prime_gen()\n\u001b[1;32m      9\u001b[0m \u001b[38;5;28;01mfor\u001b[39;00m i \u001b[38;5;129;01min\u001b[39;00m \u001b[38;5;28mrange\u001b[39m(\u001b[38;5;241m10\u001b[39m):\n\u001b[0;32m---> 10\u001b[0m     \u001b[38;5;28mprint\u001b[39m(\u001b[38;5;28;43mnext\u001b[39;49m\u001b[43m(\u001b[49m\u001b[43mgenerator\u001b[49m\u001b[43m)\u001b[49m)\n",
      "Cell \u001b[0;32mIn[23], line 6\u001b[0m, in \u001b[0;36mprime_gen\u001b[0;34m()\u001b[0m\n\u001b[1;32m      4\u001b[0m \u001b[38;5;28;01mwhile\u001b[39;00m \u001b[38;5;28;01mTrue\u001b[39;00m:\n\u001b[1;32m      5\u001b[0m     n \u001b[38;5;241m+\u001b[39m\u001b[38;5;241m=\u001b[39m\u001b[38;5;241m1\u001b[39m\n\u001b[0;32m----> 6\u001b[0m     \u001b[38;5;28;01mif\u001b[39;00m \u001b[43mis_prime\u001b[49m(n):\n\u001b[1;32m      7\u001b[0m         \u001b[38;5;28;01myield\u001b[39;00m n\n",
      "\u001b[0;31mNameError\u001b[0m: name 'is_prime' is not defined"
     ]
    }
   ],
   "source": [
    "10.#Write a code that generates prime numbers up to n using a generator?\n",
    "def prime_gen():\n",
    "    n = 1\n",
    "    while True:\n",
    "        n +=1\n",
    "        if is_prime(n):\n",
    "            yield n\n",
    "generator = prime_gen()\n",
    "for i in range(10):\n",
    "    print(next(generator))"
   ]
  },
  {
   "cell_type": "code",
   "execution_count": 25,
   "id": "c033044d-225a-4412-be97-075eb237f536",
   "metadata": {},
   "outputs": [
    {
     "data": {
      "text/plain": [
       "13"
      ]
     },
     "execution_count": 25,
     "metadata": {},
     "output_type": "execute_result"
    }
   ],
   "source": [
    "11.#Write a code that uses a lambda function to calculate the sum of two numbers?\n",
    "sum = lambda a,b:a+b\n",
    "sum(5,8)"
   ]
  },
  {
   "cell_type": "code",
   "execution_count": 26,
   "id": "60347b45-d29f-4e85-b5ab-9fc702154d91",
   "metadata": {},
   "outputs": [
    {
     "data": {
      "text/plain": [
       "36"
      ]
     },
     "execution_count": 26,
     "metadata": {},
     "output_type": "execute_result"
    }
   ],
   "source": [
    "12.#Write a code that uses a lambda function to calculate the square of a given numbers?\n",
    "sq_lambda = lambda x: x**2\n",
    "sq_lambda(6)"
   ]
  },
  {
   "cell_type": "code",
   "execution_count": 30,
   "id": "245278c5-8ccd-443a-a5f0-f50a925469c5",
   "metadata": {},
   "outputs": [
    {
     "data": {
      "text/plain": [
       "False"
      ]
     },
     "execution_count": 30,
     "metadata": {},
     "output_type": "execute_result"
    }
   ],
   "source": [
    "13.#Write a code that uses a lambda function to check whether a given number is even or odd?\n",
    "is_even = lambda x: x % 2 ==0\n",
    "is_even(15)"
   ]
  },
  {
   "cell_type": "code",
   "execution_count": 12,
   "id": "5e717d88-8211-426d-8cb3-93555ea54cda",
   "metadata": {},
   "outputs": [
    {
     "ename": "NameError",
     "evalue": "name 'well' is not defined",
     "output_type": "error",
     "traceback": [
      "\u001b[0;31m---------------------------------------------------------------------------\u001b[0m",
      "\u001b[0;31mNameError\u001b[0m                                 Traceback (most recent call last)",
      "Cell \u001b[0;32mIn[12], line 3\u001b[0m\n\u001b[1;32m      1\u001b[0m \u001b[38;5;241m14.\u001b[39m\u001b[38;5;66;03m#Write a code that uses a lambda function to cancatenate two strings?\u001b[39;00m\n\u001b[1;32m      2\u001b[0m concatenate \u001b[38;5;241m=\u001b[39m \u001b[38;5;28;01mlambda\u001b[39;00m str1,str2:join(well\u001b[38;5;241m+\u001b[39mdone)\n\u001b[0;32m----> 3\u001b[0m x \u001b[38;5;241m=\u001b[39m concatenate(\u001b[43mwell\u001b[49m,done)\n\u001b[1;32m      4\u001b[0m \u001b[38;5;28mprint\u001b[39m(\u001b[38;5;124m\"\u001b[39m\u001b[38;5;124mjoin two string:\u001b[39m\u001b[38;5;124m\"\u001b[39m, x) \n",
      "\u001b[0;31mNameError\u001b[0m: name 'well' is not defined"
     ]
    }
   ],
   "source": [
    "14.#Write a code that uses a lambda function to cancatenate two strings?\n",
    "concatenate = lambda str1,str2:join(well+done)\n",
    "x = concatenate(well,done)\n",
    "print(\"join two string:\", x) "
   ]
  },
  {
   "cell_type": "code",
   "execution_count": 1,
   "id": "2ebcdda1-547f-4fbc-86b3-d37313a5ae9f",
   "metadata": {},
   "outputs": [
    {
     "name": "stdout",
     "output_type": "stream",
     "text": [
      "Maximum number : 94\n"
     ]
    }
   ],
   "source": [
    "15.#Write a code that uses a lambda function to find the maximum of three given numbers?\n",
    "find_max = lambda a,b,c:max(a,b,c)\n",
    "result = find_max(40,23,94)\n",
    "print(\"Maximum number :\",result)"
   ]
  },
  {
   "cell_type": "code",
   "execution_count": 4,
   "id": "142355df-ec42-4734-a451-10b8751795aa",
   "metadata": {},
   "outputs": [
    {
     "name": "stdout",
     "output_type": "stream",
     "text": [
      "[0, 4, 16, 36, 64, 100, 144, 196, 256, 324, 400, 484, 576, 676, 784, 900, 1024, 1156, 1296, 1444]\n"
     ]
    }
   ],
   "source": [
    "16.#Write a code that generates the squares of even numbers from a given list?\n",
    "even_squares = [x**2 for x in range(0,40,2)]\n",
    "print(even_squares)"
   ]
  },
  {
   "cell_type": "code",
   "execution_count": 25,
   "id": "88d216d4-9741-4f52-86dc-87b930f6e32d",
   "metadata": {},
   "outputs": [],
   "source": [
    "17.#Write a code that calculates the product of positive numbers from a given list?\n",
    "def sum(list):\n",
    "    s = 0\n",
    "    for i in list:\n",
    "        if i>0:\n",
    "            s = s+i\n",
    "    return s"
   ]
  },
  {
   "cell_type": "code",
   "execution_count": 46,
   "id": "ad26dcec-40b2-43e9-a460-5b797eaa7f6d",
   "metadata": {},
   "outputs": [
    {
     "name": "stdout",
     "output_type": "stream",
     "text": [
      "[2, 6, 10, 14, 18, 22]\n"
     ]
    }
   ],
   "source": [
    "18.#Write a code that doubles the values of odd numbers from a given list?\n",
    "\n",
    "def double(list):\n",
    "       return [x*2 for x in list]\n",
    "n = [1,3,5,7,9,11]\n",
    "print(double(n))"
   ]
  },
  {
   "cell_type": "code",
   "execution_count": 51,
   "id": "18e2ebbe-7412-4eb1-8405-bc5a7e7d6c4f",
   "metadata": {},
   "outputs": [
    {
     "name": "stdout",
     "output_type": "stream",
     "text": [
      "441\n"
     ]
    }
   ],
   "source": [
    "19.#Write a code that calculates the sum of cubes of numbers from a given list?\n",
    "def sumOfCubes(n):\n",
    "    sum = 0\n",
    "    for i in range(1,n+1):\n",
    "        sum += i*i*i\n",
    "    return sum\n",
    "n = 6\n",
    "print(sumOfCubes(n))"
   ]
  },
  {
   "cell_type": "code",
   "execution_count": 1,
   "id": "df8efb14-96db-4d4e-a13c-b547b002906b",
   "metadata": {},
   "outputs": [
    {
     "name": "stdout",
     "output_type": "stream",
     "text": [
      "[2, 5, 23]\n"
     ]
    }
   ],
   "source": [
    "20.#Write a code that filters out prime numbers from a given list?\n",
    "list = [1,2,4,5,8,9,10,15,23]\n",
    "prime = []\n",
    "count = 0\n",
    "for num in list:\n",
    "    count = 0 \n",
    "    for i in range(1,num+1):\n",
    "        if num%i==0:\n",
    "            count += 1\n",
    "    if count == 2:\n",
    "        prime.append(num)\n",
    "print(prime)"
   ]
  },
  {
   "cell_type": "code",
   "execution_count": 52,
   "id": "5a420cd7-67c0-48b0-aed9-26155cd3590f",
   "metadata": {},
   "outputs": [
    {
     "data": {
      "text/plain": [
       "13"
      ]
     },
     "execution_count": 52,
     "metadata": {},
     "output_type": "execute_result"
    }
   ],
   "source": [
    "21.#Write a code that uses a lambda function to calculate the sum of two numbers?\n",
    "sum = lambda a,b:a+b\n",
    "sum(5,8)"
   ]
  },
  {
   "cell_type": "code",
   "execution_count": 53,
   "id": "4bf7ac9f-2574-40a2-b394-90f56656975c",
   "metadata": {},
   "outputs": [
    {
     "data": {
      "text/plain": [
       "36"
      ]
     },
     "execution_count": 53,
     "metadata": {},
     "output_type": "execute_result"
    }
   ],
   "source": [
    "22.#Write a code that uses a lambda function to calculate the square of a given numbers?\n",
    "sq_lambda = lambda x: x**2\n",
    "sq_lambda(6)"
   ]
  },
  {
   "cell_type": "code",
   "execution_count": 54,
   "id": "85279e64-a845-478f-a7ff-681a700a557b",
   "metadata": {},
   "outputs": [
    {
     "data": {
      "text/plain": [
       "False"
      ]
     },
     "execution_count": 54,
     "metadata": {},
     "output_type": "execute_result"
    }
   ],
   "source": [
    "23.#Write a code that uses a lambda function to check whether a given number is even or odd?\n",
    "is_even = lambda x: x % 2 ==0\n",
    "is_even(15)"
   ]
  },
  {
   "cell_type": "code",
   "execution_count": null,
   "id": "9521f36f-de26-4abf-b6a6-94b09fc07045",
   "metadata": {},
   "outputs": [],
   "source": [
    "24.#Write a code that uses a lambda function to cancatenate two strings?"
   ]
  },
  {
   "cell_type": "code",
   "execution_count": 56,
   "id": "5fc4a3a0-70bc-4f4a-be8f-2ce5bf18477d",
   "metadata": {},
   "outputs": [
    {
     "name": "stdout",
     "output_type": "stream",
     "text": [
      "Maximum number : 94\n"
     ]
    }
   ],
   "source": [
    "25.#Write a code that uses a lambda function to find the maximum of three given numbers?\n",
    "find_max = lambda a,b,c:max(a,b,c)\n",
    "result = find_max(40,23,94)\n",
    "print(\"Maximum number :\",result)"
   ]
  },
  {
   "cell_type": "code",
   "execution_count": null,
   "id": "c6d036e4-bacb-4b6a-ae25-58b6cd0ac6aa",
   "metadata": {},
   "outputs": [],
   "source": [
    "26.#What is encapsulation in opp?\n",
    "# Encapsulation >> Encapsulation means hiding something.\n",
    "#It refers to building of data along with the methods that operates on that data into a single unit.\n"
   ]
  },
  {
   "cell_type": "code",
   "execution_count": null,
   "id": "26b88920-a738-48db-ad34-7f5cf4328391",
   "metadata": {},
   "outputs": [],
   "source": [
    "27.#Explain the use of access modifiers in python classes?\n",
    "\n",
    "# Access modifiers >> Access modifiers in python are special keywords used to control the visibility and accessibility of classes,methods and variables in a program.\n",
    "There are three ways:-\n",
    "1. public: By default all variables and methods are public.It is accessible from anywhere from inside or outside the class.\n",
    "2. protected: To make an instance variable and methods protected, by using the single (_) underscore.They can be accessible within the class and its subclass only.\n",
    "3. private: To make an instance variable and methods private, by using the double (__) underscore.It is accessible with in the class only."
   ]
  },
  {
   "cell_type": "code",
   "execution_count": null,
   "id": "6e6d71ec-9572-4338-bcee-46f73eec01a3",
   "metadata": {},
   "outputs": [],
   "source": [
    "28.#What is inheritance in opp?\n",
    "\n",
    "#Inheritance >>It is the process that allows a child class inherit the property of parent class.\n",
    "#The class whose members are inherited is called the base class and the class that inherits those members is called the derived class."
   ]
  },
  {
   "cell_type": "code",
   "execution_count": null,
   "id": "8ed61db5-772a-468b-984e-361e6ad6300e",
   "metadata": {},
   "outputs": [],
   "source": [
    "29.#Define polymorphism in opp?\n",
    "\n",
    "# Polymorphism >> Poly means many, morphism means forms.It refers to an object taking several forms depending on data.\n",
    "There are two types:\n",
    "(a) compile time polymorphism\n",
    "(b) runtime polymorphism"
   ]
  },
  {
   "cell_type": "code",
   "execution_count": null,
   "id": "9cd3a7d8-0c7c-4402-9961-edb16416dc07",
   "metadata": {},
   "outputs": [],
   "source": [
    "30.#Explain method overriding in python?\n",
    " \n",
    "#Method overriding >> Method overriding in python is when you have two methods with the same name that each perform different tasks.\n",
    "When a method in a subclass has the same name,same parameters and return type as a method in its super-class, then the method in the subclass is said to override the method in the super-class.\n"
   ]
  },
  {
   "cell_type": "code",
   "execution_count": 2,
   "id": "8c5f8bed-6b3b-4372-9e49-05cc2437916a",
   "metadata": {},
   "outputs": [],
   "source": [
    "31.#Define a parent class animal with a method make_sound that prints \"generic animal sound\".Create a child class dog inheriting from animal with a method make_sound that prints \"woof\"!\n",
    "\n",
    "class Animal:\n",
    "    def make_sound(self):\n",
    "        print(\"Generic animal sound\")\n",
    "class Dog(Animal):\n",
    "    def make_sound(self):\n",
    "        print(\"Woof\")\n",
    "    "
   ]
  },
  {
   "cell_type": "code",
   "execution_count": 4,
   "id": "589d352b-9c6c-45ce-bbf4-a57d23992e2f",
   "metadata": {},
   "outputs": [],
   "source": [
    "dog = Dog()"
   ]
  },
  {
   "cell_type": "code",
   "execution_count": 5,
   "id": "2cdc067f-f5a6-4b64-8214-aea3fb47f431",
   "metadata": {},
   "outputs": [
    {
     "name": "stdout",
     "output_type": "stream",
     "text": [
      "Woof\n"
     ]
    }
   ],
   "source": [
    "dog.make_sound()"
   ]
  },
  {
   "cell_type": "code",
   "execution_count": 4,
   "id": "04dbe8d9-697b-49d3-a4cc-8c55bf441b92",
   "metadata": {},
   "outputs": [],
   "source": [
    "32.#Define a method move in animal class that prints \"Animal moves\". Override the move method in the dog class to print \"Dog runs\".\n",
    "\n",
    "class Animal:\n",
    "    def move(self):\n",
    "        print(\"Animal moves\")\n",
    "class Dog(Animal):\n",
    "    def move(self):\n",
    "        print(\"Dog runs\")\n",
    "    def make_sound(self):\n",
    "        print(\"Woof\")\n",
    "    "
   ]
  },
  {
   "cell_type": "code",
   "execution_count": 5,
   "id": "da6efe14-9815-4621-8204-cb23cfdadcd1",
   "metadata": {},
   "outputs": [],
   "source": [
    "dog = Dog()"
   ]
  },
  {
   "cell_type": "code",
   "execution_count": 6,
   "id": "4c3f7dff-ef2b-41f9-a9e0-917d310f7972",
   "metadata": {},
   "outputs": [
    {
     "name": "stdout",
     "output_type": "stream",
     "text": [
      "Dog runs\n"
     ]
    }
   ],
   "source": [
    "dog.move()"
   ]
  },
  {
   "cell_type": "code",
   "execution_count": 9,
   "id": "d7ecd36d-3f0f-4e72-8027-d7cc88a5f4f8",
   "metadata": {},
   "outputs": [],
   "source": [
    "33.#Create a class mammal with a method reproduce that prints \"Giving birth to live young.\"Create a class DogMammal inheriting from both dog and mammal.\n",
    "\n",
    "class Mammal:\n",
    "    def reproduce(self):\n",
    "        print(\"Giving birth to live young\")\n",
    "class Dog:\n",
    "    def move(self):\n",
    "        print(\"Dog runs\")\n",
    "class DogMammal(Mammal,Dog):\n",
    "    def make_sound(self):\n",
    "        print(\"Woof\")"
   ]
  },
  {
   "cell_type": "code",
   "execution_count": 10,
   "id": "7b55903a-30f2-4419-814e-fa21e1f6bf6a",
   "metadata": {},
   "outputs": [],
   "source": [
    "child = DogMammal()"
   ]
  },
  {
   "cell_type": "code",
   "execution_count": 13,
   "id": "7979baf7-c2b7-41a4-a608-e87084ade70b",
   "metadata": {},
   "outputs": [
    {
     "name": "stdout",
     "output_type": "stream",
     "text": [
      "Giving birth to live young\n"
     ]
    }
   ],
   "source": [
    "child.reproduce()"
   ]
  },
  {
   "cell_type": "code",
   "execution_count": 14,
   "id": "aea16f68-31f3-4291-98ad-5af02f3ec362",
   "metadata": {},
   "outputs": [
    {
     "name": "stdout",
     "output_type": "stream",
     "text": [
      "Woof\n"
     ]
    }
   ],
   "source": [
    "child.make_sound()"
   ]
  },
  {
   "cell_type": "code",
   "execution_count": 15,
   "id": "664cd325-435f-459a-9b7e-ee22ad4ee256",
   "metadata": {},
   "outputs": [
    {
     "name": "stdout",
     "output_type": "stream",
     "text": [
      "Dog runs\n"
     ]
    }
   ],
   "source": [
    "child.move()"
   ]
  },
  {
   "cell_type": "code",
   "execution_count": 1,
   "id": "d2c80e6b-b643-489b-9d32-2777ce3c5d60",
   "metadata": {},
   "outputs": [],
   "source": [
    "34.#Create a class Germanshepherd inheriting from dog and override the make_sound method to print\"Bark!\"\n",
    "\n",
    "class Dog:\n",
    "    def make_sound(self):\n",
    "        print(\"woof\")\n",
    "class Germanshepherd(Dog):\n",
    "    def make_sound(self):\n",
    "        print(\"Bark\")\n",
    "    "
   ]
  },
  {
   "cell_type": "code",
   "execution_count": 3,
   "id": "b37038d0-5138-4a45-9d08-0166157e3afe",
   "metadata": {},
   "outputs": [],
   "source": [
    "gen = Germanshepherd()"
   ]
  },
  {
   "cell_type": "code",
   "execution_count": 4,
   "id": "f75c12e5-b19c-4120-81e1-5506151d9d2f",
   "metadata": {},
   "outputs": [
    {
     "name": "stdout",
     "output_type": "stream",
     "text": [
      "Bark\n"
     ]
    }
   ],
   "source": [
    "gen.make_sound()"
   ]
  },
  {
   "cell_type": "code",
   "execution_count": null,
   "id": "2e5fe89f-395c-4fd0-96dc-7c21537043e4",
   "metadata": {},
   "outputs": [],
   "source": [
    "35.#Define constructors in both the animal and dog classes with different initialization parameters?\n",
    "\n"
   ]
  },
  {
   "cell_type": "code",
   "execution_count": null,
   "id": "52101251-1959-4315-bdb5-057ee67ac5bd",
   "metadata": {},
   "outputs": [],
   "source": []
  },
  {
   "cell_type": "code",
   "execution_count": null,
   "id": "d970744b-83ed-4abd-bad3-dd24ee0ed9a7",
   "metadata": {},
   "outputs": [],
   "source": [
    "36.#What is abstraction in python? How is it implemented?\n",
    "\n",
    "#Abstraction>> Abstraction is a fundamental concepts in python programming it involves hiding unnecessary details and exposing only relevant information to the users.\n",
    "In python, abstraction can be achieved by using abstract classes and interfaces."
   ]
  },
  {
   "cell_type": "code",
   "execution_count": null,
   "id": "7592be61-0a53-4700-8ce3-51391681d26e",
   "metadata": {},
   "outputs": [],
   "source": [
    "37.#Explain the importance of abstraction in object-oriented programming?\n",
    "\n",
    "#Abstraction is one of the most important concepts in object-oriented programming languages. Its main goal to handle complexity by hiding unnecessary details from the users."
   ]
  },
  {
   "cell_type": "code",
   "execution_count": null,
   "id": "98b0e6d9-6741-4cdd-a513-98c23f7c02bd",
   "metadata": {},
   "outputs": [],
   "source": [
    "38.#How are abstract methods are different from regular methods in python?\n",
    "\n",
    "#An abstract method is a method that has a declaration but does not have an implementation.We use an abstract class while we are designing large functional units.\n"
   ]
  },
  {
   "cell_type": "code",
   "execution_count": null,
   "id": "e3dad1c5-7782-478b-a88e-e859c3c94c89",
   "metadata": {},
   "outputs": [],
   "source": [
    "39.#How can you achieve abstraction using interfaces in python?\n",
    "\n",
    "#Abstraction in python is achieved by using abstract classes or interfaces provided by the \"abc\" module.\n",
    "Abstract classes define a common interface  for their subclasses,while interfaces define a set of methods that must be implemented by the classes that implement the interface.\n"
   ]
  },
  {
   "cell_type": "raw",
   "id": "1ff04aba-c2c1-46a5-bd6d-7d886a0bad4e",
   "metadata": {},
   "source": [
    "40.#"
   ]
  },
  {
   "cell_type": "code",
   "execution_count": null,
   "id": "682301d9-8c94-47ad-8009-c2594d1410fb",
   "metadata": {},
   "outputs": [],
   "source": []
  },
  {
   "cell_type": "code",
   "execution_count": null,
   "id": "0dc32aad-d08e-4f34-bbe7-1ace36276529",
   "metadata": {},
   "outputs": [],
   "source": [
    "41.# How does python achieve polymorphism through method overriding?\n",
    "\n",
    "# Method overriding refers to the technique of reimplementing a method in a child class.\n",
    "As you can see the python interpreter detects that the car objects max_speed() and gear_system()methods are overridden due to polymorphism."
   ]
  },
  {
   "cell_type": "code",
   "execution_count": 6,
   "id": "72c5f725-83fa-4beb-a32f-1f234bf74b94",
   "metadata": {},
   "outputs": [],
   "source": [
    "42.#Define a base class with a method and a subclass that overrides the method?\n",
    "\n",
    "#Base class>> A base class is an existing class from which the other classes are determined and properties are inherited. it is also known as a superclass or parent class.\n",
    "When a method in a subclass has the same name,same parameters and same return type as a method in its super class, then the method in the subclass is said to override the method in the superclass. \n",
    "#example:\n",
    "class Fruit:\n",
    "    def fruit_info(self):\n",
    "        print(\"Inside parent class\")\n",
    "class Apple(Fruit):\n",
    "    def fruit_info(self):\n",
    "        print(\"Inside the child class\")\n",
    "    def apple_info(self):\n",
    "        print(\"Inside the child class\") "
   ]
  },
  {
   "cell_type": "code",
   "execution_count": 7,
   "id": "4aba9f76-ae83-49ae-ba27-8e17bd30a991",
   "metadata": {},
   "outputs": [],
   "source": [
    "apple = Apple()"
   ]
  },
  {
   "cell_type": "code",
   "execution_count": 8,
   "id": "c33c2e96-5275-48e0-b719-1e5e924662c8",
   "metadata": {},
   "outputs": [
    {
     "name": "stdout",
     "output_type": "stream",
     "text": [
      "Inside the child class\n"
     ]
    }
   ],
   "source": [
    "apple.apple_info()"
   ]
  },
  {
   "cell_type": "code",
   "execution_count": 10,
   "id": "d1325182-6508-4aa1-a7e4-198b206cb0f0",
   "metadata": {},
   "outputs": [
    {
     "name": "stdout",
     "output_type": "stream",
     "text": [
      "Inside the child class\n"
     ]
    }
   ],
   "source": [
    "apple.fruit_info()"
   ]
  },
  {
   "cell_type": "code",
   "execution_count": 11,
   "id": "21791ec6-b435-4c29-9f14-1977a6b6166d",
   "metadata": {},
   "outputs": [],
   "source": [
    "43.#Define a base class and multiple subclasses with overridden methods?\n",
    "\n",
    "class Vehicle:\n",
    "    def vehicle_info(self):\n",
    "        print(\"Inside vehicle class\")\n",
    "class Car(Vehicle):\n",
    "    def car_info(self):\n",
    "        print(\"Inside car class\")\n",
    "class SportsCar(Car):\n",
    "    def vehicle_info(self):\n",
    "        print(\"Inside sports car class\") \n"
   ]
  },
  {
   "cell_type": "code",
   "execution_count": 12,
   "id": "3197937d-bda0-4786-bd97-9647acc187ac",
   "metadata": {},
   "outputs": [],
   "source": [
    "car = SportsCar()"
   ]
  },
  {
   "cell_type": "code",
   "execution_count": 13,
   "id": "95daf214-f14e-48db-856c-97786671b265",
   "metadata": {},
   "outputs": [
    {
     "name": "stdout",
     "output_type": "stream",
     "text": [
      "Inside sports car class\n"
     ]
    }
   ],
   "source": [
    "car.vehicle_info() #method overriding"
   ]
  },
  {
   "cell_type": "code",
   "execution_count": null,
   "id": "7ffa0d9f-2027-4a1f-a5a8-5b5c6c2934c9",
   "metadata": {},
   "outputs": [],
   "source": [
    "44.#How does polymorphism improve code readability and reusability?\n",
    "\n",
    "#It enables code reusability and flexibility by allowing multiple classes to implement the same method in different ways.\n"
   ]
  },
  {
   "cell_type": "code",
   "execution_count": null,
   "id": "f4ae37e2-9152-4d34-9262-ff684b262e41",
   "metadata": {},
   "outputs": [],
   "source": [
    "45.#Describe how python supports polymorphism with duck typing?\n",
    "\n",
    "#Duck typing is the principle that allows for implicit implementation of polymorphism in python.There is no need to explicitly declare interfaces or return types. "
   ]
  },
  {
   "cell_type": "code",
   "execution_count": null,
   "id": "26e8c7bb-0744-4ad0-8d04-575ef1a62b72",
   "metadata": {},
   "outputs": [],
   "source": [
    "46.#How do you achieve encapsulation in python?\n",
    "\n",
    "#Encapsulation is achieved by declaring a class's data members and methods as either private or protected.\n",
    "But in python we do not have keywords like public,private or protected as in the case of java. Instead we achieve this by using single and double underscores.\n"
   ]
  },
  {
   "cell_type": "code",
   "execution_count": null,
   "id": "e5f14a8d-dba8-4e54-a107-816a873f31c1",
   "metadata": {},
   "outputs": [],
   "source": [
    "47.#Can encapsulation be bypassed in python? if so, how?\n",
    "\n"
   ]
  },
  {
   "cell_type": "code",
   "execution_count": 11,
   "id": "e68463a4-0435-4d02-95fd-ee233640194e",
   "metadata": {},
   "outputs": [],
   "source": [
    "48.#Implement a class BankAccount with a private balance attribute. Include methods to deposit,withdraw and check the balance.\n",
    "\n",
    "class BankAccount:\n",
    "    \n",
    "    def __init__(self,balance):\n",
    "        self.__balance = balance\n",
    "        \n",
    "    def deposit(self,amount):\n",
    "        self.__balance = self.__balance + amount\n",
    "           \n",
    "    def withdraw(self,amount):\n",
    "        if self.__balance >= amount:\n",
    "            self.__balance = self.__balance - amount \n",
    "            return True\n",
    "        else: \n",
    "            return False\n",
    "        \n",
    "    def checkthebalance(self):\n",
    "        return self.__balance\n",
    "        "
   ]
  },
  {
   "cell_type": "code",
   "execution_count": 15,
   "id": "b08e8ace-3eae-41b8-863e-86331240f8f1",
   "metadata": {},
   "outputs": [],
   "source": [
    "ac = BankAccount(2000)"
   ]
  },
  {
   "cell_type": "code",
   "execution_count": 16,
   "id": "81905830-41b9-4086-9192-8f9fb97b76a8",
   "metadata": {},
   "outputs": [
    {
     "data": {
      "text/plain": [
       "2000"
      ]
     },
     "execution_count": 16,
     "metadata": {},
     "output_type": "execute_result"
    }
   ],
   "source": [
    "ac.checkthebalance()"
   ]
  },
  {
   "cell_type": "code",
   "execution_count": 17,
   "id": "c0991ae3-e8da-4c0f-9474-df77723cbd2d",
   "metadata": {},
   "outputs": [],
   "source": [
    "ac.deposit(5000)"
   ]
  },
  {
   "cell_type": "code",
   "execution_count": 18,
   "id": "a18a05ac-c367-4ba0-97be-339609e52756",
   "metadata": {},
   "outputs": [
    {
     "data": {
      "text/plain": [
       "7000"
      ]
     },
     "execution_count": 18,
     "metadata": {},
     "output_type": "execute_result"
    }
   ],
   "source": [
    "ac.checkthebalance()"
   ]
  },
  {
   "cell_type": "code",
   "execution_count": 19,
   "id": "9d0d8fe9-52b9-418b-9b64-a47bb236ba77",
   "metadata": {},
   "outputs": [
    {
     "data": {
      "text/plain": [
       "True"
      ]
     },
     "execution_count": 19,
     "metadata": {},
     "output_type": "execute_result"
    }
   ],
   "source": [
    "ac.withdraw(500)"
   ]
  },
  {
   "cell_type": "code",
   "execution_count": 20,
   "id": "c7dd97d6-fff5-4d6c-b67f-b087d1dfc8c5",
   "metadata": {},
   "outputs": [
    {
     "data": {
      "text/plain": [
       "6500"
      ]
     },
     "execution_count": 20,
     "metadata": {},
     "output_type": "execute_result"
    }
   ],
   "source": [
    "ac.checkthebalance()"
   ]
  },
  {
   "cell_type": "code",
   "execution_count": 26,
   "id": "4ab88485-4dd3-4aa6-aefb-5f75322490e8",
   "metadata": {},
   "outputs": [],
   "source": [
    "49.#Develop a person class with private attributes name and email,and methods to set and get the email?\n",
    "class Person:\n",
    "    \n",
    "    def __init__(self,name,email):\n",
    "        self.__name = name\n",
    "        self.__email = email\n",
    "        \n",
    "    def set(self):\n",
    "        return self.__email\n",
    "    \n",
    "    def get(self):\n",
    "        return self.__email"
   ]
  },
  {
   "cell_type": "code",
   "execution_count": 24,
   "id": "9fecc39f-ade3-4359-ba8f-0a967ee955f8",
   "metadata": {},
   "outputs": [
    {
     "ename": "NameError",
     "evalue": "name 'Pravya' is not defined",
     "output_type": "error",
     "traceback": [
      "\u001b[0;31m---------------------------------------------------------------------------\u001b[0m",
      "\u001b[0;31mNameError\u001b[0m                                 Traceback (most recent call last)",
      "Cell \u001b[0;32mIn[24], line 1\u001b[0m\n\u001b[0;32m----> 1\u001b[0m per \u001b[38;5;241m=\u001b[39m Person(\u001b[43mPravya\u001b[49m,Pravyaj\u001b[38;5;129m@gmail\u001b[39m\u001b[38;5;241m.\u001b[39mcom)\n",
      "\u001b[0;31mNameError\u001b[0m: name 'Pravya' is not defined"
     ]
    }
   ],
   "source": [
    "per = Person(Pravya,Pravyaj@gmail.com)"
   ]
  },
  {
   "cell_type": "code",
   "execution_count": null,
   "id": "74df4130-ec1b-48b1-b918-d46baa852a18",
   "metadata": {},
   "outputs": [],
   "source": [
    "50.#Why is encapsulation considered a pillar of object-oriented programming(OOP)?\n",
    "\n",
    "#This pillar encapsulates data within objects safeguards it from unauthorized access.It is only accessible to the right person.\n"
   ]
  },
  {
   "cell_type": "code",
   "execution_count": 29,
   "id": "822fb03f-fa98-48e2-ad71-d83dc0573da8",
   "metadata": {},
   "outputs": [],
   "source": [
    "51.#Create a decorator in python that add functionality to a simple function by priting a message before and after the function execution?\n",
    "\n",
    "def my_decorator(func):\n",
    "    def wrapper():\n",
    "        print(\"This sentence is printed before the function execution\")\n",
    "        func()\n",
    "        print(\"This sentence is printed after the function execution\")\n",
    "    return wrapper()"
   ]
  },
  {
   "cell_type": "code",
   "execution_count": 30,
   "id": "9e1a5c11-0d54-47e2-a31a-4d2fed67d484",
   "metadata": {},
   "outputs": [
    {
     "name": "stdout",
     "output_type": "stream",
     "text": [
      "This sentence is printed before the function execution\n",
      "welcome\n",
      "This sentence is printed after the function execution\n"
     ]
    }
   ],
   "source": [
    "@my_decorator\n",
    "def hi():\n",
    "    print(\"welcome\")"
   ]
  },
  {
   "cell_type": "code",
   "execution_count": null,
   "id": "a7665eff-422f-4805-b5c9-954e11bd13a1",
   "metadata": {},
   "outputs": [],
   "source": [
    "52.#Modify the decorator to accept arguments and print the function name along with the message?"
   ]
  },
  {
   "cell_type": "code",
   "execution_count": 9,
   "id": "baee24cd-6a49-438c-b971-cf09b84c0399",
   "metadata": {},
   "outputs": [],
   "source": [
    "56.#Create a python class 'Calculator' with a static method 'add' that takes in two numbers and return their sum?\n",
    "\n",
    "class Calculator:\n",
    "    \n",
    "    @staticmethod\n",
    "    def add(a,b):\n",
    "        return a+b"
   ]
  },
  {
   "cell_type": "code",
   "execution_count": 10,
   "id": "dcc72244-17a0-4ef1-9d2c-512aa8647d85",
   "metadata": {},
   "outputs": [
    {
     "data": {
      "text/plain": [
       "12"
      ]
     },
     "execution_count": 10,
     "metadata": {},
     "output_type": "execute_result"
    }
   ],
   "source": [
    "Calculator.add(3,9)"
   ]
  },
  {
   "cell_type": "code",
   "execution_count": 3,
   "id": "c3581d8a-25e7-48d9-a7a1-07250a89f5f4",
   "metadata": {},
   "outputs": [],
   "source": [
    "57.#Create a python class 'Employee' with a class 'method get_employee_count' that returns the total number of employees created?\n",
    "\n",
    "class Employee:\n",
    "    total_no_employees  = 0\n",
    "    def __init__(self,name):\n",
    "        self.name = name\n",
    "        Employee.total_no_employees = Employee.total_no_employees + 1\n",
    "        \n",
    "    @classmethod\n",
    "    def get_employee_count(cls):\n",
    "        return cls.total_no_employees       "
   ]
  },
  {
   "cell_type": "code",
   "execution_count": 4,
   "id": "2d8c686f-5603-4a21-ad8c-51b081ae8170",
   "metadata": {},
   "outputs": [],
   "source": [
    "emp = Employee(\"Aman\")"
   ]
  },
  {
   "cell_type": "code",
   "execution_count": 5,
   "id": "b42cd260-d805-4439-9e3e-5e4374312b23",
   "metadata": {},
   "outputs": [],
   "source": [
    "emp1 = Employee(\"Ravi\")"
   ]
  },
  {
   "cell_type": "code",
   "execution_count": 6,
   "id": "c6879df9-3422-4f7d-b292-bea2aa9182fb",
   "metadata": {},
   "outputs": [],
   "source": [
    "emp2 = Employee(\"Avinash\")"
   ]
  },
  {
   "cell_type": "code",
   "execution_count": 7,
   "id": "73811ba6-e0cb-4be9-97e9-cf472e6fa56b",
   "metadata": {},
   "outputs": [
    {
     "data": {
      "text/plain": [
       "3"
      ]
     },
     "execution_count": 7,
     "metadata": {},
     "output_type": "execute_result"
    }
   ],
   "source": [
    "Employee.get_employee_count()"
   ]
  },
  {
   "cell_type": "code",
   "execution_count": 3,
   "id": "37e73c97-b655-4220-a188-0d93ab8be5c7",
   "metadata": {},
   "outputs": [
    {
     "name": "stdout",
     "output_type": "stream",
     "text": [
      "syug olleH\n"
     ]
    }
   ],
   "source": [
    "58.#Create a python class 'stringformatter' with a static method 'reverse_string' that takes a string as input and return its reverse?\n",
    "\n",
    "class String_Formatter():\n",
    "    def reverse_string(x):\n",
    "        return x[::-1]\n",
    "    mytxt = reverse_string(\"Hello guys\")\n",
    "    print(mytxt)"
   ]
  },
  {
   "cell_type": "code",
   "execution_count": 5,
   "id": "240a7187-1bab-42f4-bf0d-c1b746f3fdf9",
   "metadata": {},
   "outputs": [],
   "source": [
    "59.#Create a python class 'circle' with a class method 'calculate area' that calculates the area of circle given its radius?\n",
    "\n",
    "class Circle():\n",
    "    def __init__(self,radius):\n",
    "        self.radius = radius\n",
    "        \n",
    "    def calculate_area(self):\n",
    "        return self.radius**2*3.14\n"
   ]
  },
  {
   "cell_type": "code",
   "execution_count": 6,
   "id": "eb93b24b-8d2d-4f70-8cce-41ee8cc63c9d",
   "metadata": {},
   "outputs": [],
   "source": [
    "c = Circle(7)"
   ]
  },
  {
   "cell_type": "code",
   "execution_count": 8,
   "id": "2f2f0e4c-309f-4813-823c-61916aba9ab3",
   "metadata": {},
   "outputs": [
    {
     "data": {
      "text/plain": [
       "153.86"
      ]
     },
     "execution_count": 8,
     "metadata": {},
     "output_type": "execute_result"
    }
   ],
   "source": [
    "c.calculate_area()"
   ]
  },
  {
   "cell_type": "code",
   "execution_count": null,
   "id": "56c7eaa8-3c57-40f6-85aa-21447bee03d7",
   "metadata": {},
   "outputs": [],
   "source": [
    "60.#Create a python class 'TemperatureConverter' with a static method 'celcius_to_fahrenheit' that converts to celsius to fahrenheit?\n"
   ]
  },
  {
   "cell_type": "code",
   "execution_count": null,
   "id": "d709cd1f-95db-46df-919a-fb0613bc249f",
   "metadata": {},
   "outputs": [],
   "source": [
    "61.#What is the purpose of __str__()method in python classes? Provide an example.\n",
    "\n",
    "#The __str__method returns a human readable or string representation of an object.This method is called by built in print(),str()functions.\n",
    "if we have not defined the __str__, then it will call the __repr__ method.\n",
    "\n",
    "class Teacher:\n",
    "    def __init__(self,age):\n",
    "        self.age = 35\n",
    "        \n",
    "    def __str__(self):\n",
    "        return \"This method overrides the print statement\""
   ]
  },
  {
   "cell_type": "code",
   "execution_count": null,
   "id": "905f893f-ca06-4a20-ab63-5f24c32cda7b",
   "metadata": {},
   "outputs": [
    {
     "name": "stdout",
     "output_type": "stream",
     "text": [
      "This method overrides the print statement\n"
     ]
    }
   ],
   "source": [
    "print(Teacher())"
   ]
  },
  {
   "cell_type": "code",
   "execution_count": 9,
   "id": "f53b31ea-3f31-4b80-9c27-6e8a78f206a9",
   "metadata": {},
   "outputs": [
    {
     "name": "stdout",
     "output_type": "stream",
     "text": [
      "7\n"
     ]
    }
   ],
   "source": [
    "62.#How does the __len__()method work in python? Provide an example.\n",
    "\n",
    "#The len() method in python is used to determine the length or the number of items in a collection, such as string,tuple,dict and list.\n",
    "#It return an integer representing the length of an given object.\n",
    "\n",
    "my_list = [1,2,3,4,5,6,7]\n",
    "length = len(my_list)\n",
    "print(length)"
   ]
  },
  {
   "cell_type": "code",
   "execution_count": 15,
   "id": "0507f676-71d7-4f11-9556-e3efd023ddef",
   "metadata": {},
   "outputs": [],
   "source": [
    "63.#Explain the usage of the __add__() method in python classes? Provide an example.\n",
    "\n",
    "#The __add__ mehod is called when the addition operator(+) is use with instances of your custom class. \n",
    "#It takes two arguments:self and other.This method should return a new object representing the result of the addition.\n",
    "\n",
    "class Student:\n",
    "    def __init__(self,name,marks):\n",
    "        self.name = name\n",
    "        self.marks = marks\n",
    "    def display(self):\n",
    "        print(self.name,self.marks)\n",
    "    def __add__(self,S):\n",
    "        std = Student(S.name,[])\n",
    "        for i in range(len(self.marks)):\n",
    "                std.marks.append(self.marks[i]+S.marks[i])\n",
    "        return std\n",
    "    "
   ]
  },
  {
   "cell_type": "code",
   "execution_count": 21,
   "id": "b6c5cd65-fbb1-4c2f-b7d3-13ea1b2c1a1b",
   "metadata": {},
   "outputs": [],
   "source": [
    "S1 = Student(\"Pravya\",[99,78])\n",
    "S2 = Student(\"Pravya\",[98,87])"
   ]
  },
  {
   "cell_type": "code",
   "execution_count": 22,
   "id": "c6d28c4f-e4cd-4150-a82f-a96e8b9f6d15",
   "metadata": {},
   "outputs": [
    {
     "name": "stdout",
     "output_type": "stream",
     "text": [
      "Pravya [99, 78]\n"
     ]
    }
   ],
   "source": [
    "S1.display()"
   ]
  },
  {
   "cell_type": "code",
   "execution_count": 23,
   "id": "cdebdd34-adc5-4b76-a897-5fde4456e556",
   "metadata": {},
   "outputs": [
    {
     "name": "stdout",
     "output_type": "stream",
     "text": [
      "Pravya [98, 87]\n"
     ]
    }
   ],
   "source": [
    "S2.display()"
   ]
  },
  {
   "cell_type": "code",
   "execution_count": 24,
   "id": "b6ed4ca9-a385-49f7-a5c7-ba2954f889c5",
   "metadata": {},
   "outputs": [
    {
     "name": "stdout",
     "output_type": "stream",
     "text": [
      "Pravya [197, 165]\n"
     ]
    }
   ],
   "source": [
    "S3 = Student(\"\",[])\n",
    "S3 = S1+S2\n",
    "S3.display()"
   ]
  },
  {
   "cell_type": "code",
   "execution_count": 6,
   "id": "9657fc4f-f7aa-463e-9f95-d1de7b0c15c6",
   "metadata": {},
   "outputs": [],
   "source": [
    "64.#What is the purpose of __getitem__()method in python? Provide an example.\n",
    "\n",
    "#__getitem__ method is used to get an item from the invoked instances attribute.\n",
    "#It is commonly used with containers like list,tuple etc.It is also called magic method.\n",
    "\n",
    "class World:\n",
    "    def __init__(self,Ist):\n",
    "        self.Ist = Ist\n",
    "        \n",
    "    def __getitem__(self,key):\n",
    "        print(\"Hello bacho\",key)\n",
    "        return self.Ist[key]"
   ]
  },
  {
   "cell_type": "code",
   "execution_count": 7,
   "id": "59799865-e7d0-45ef-abee-0527ebf53bd6",
   "metadata": {},
   "outputs": [
    {
     "name": "stdout",
     "output_type": "stream",
     "text": [
      "Hello bacho 1\n",
      "Sonali\n"
     ]
    }
   ],
   "source": [
    "obj = World(['Avni','Sonali','Rtika'])\n",
    "print(obj[1])"
   ]
  },
  {
   "cell_type": "code",
   "execution_count": 1,
   "id": "b6112e5e-8847-4f8a-85d7-a97c03ce9d30",
   "metadata": {},
   "outputs": [],
   "source": [
    "65.#Explain the usage of the __iter__() and __next__() methods in python classes? Provide an example using iterators.\n",
    "\n",
    "#The __iter__()method returns an iterator object.This is required in order to use containers and iterators with the for and in statements.\n",
    "#\n",
    "\n",
    "class Square:\n",
    "    def __init__(self,length):\n",
    "        self.length = length\n",
    "        self.current = 0\n",
    "        \n",
    "    def __iter__(self):\n",
    "        return self\n",
    "        \n",
    "    def __next__(self):\n",
    "        if self.current >= self.length:\n",
    "            raise StopIteration\n",
    "        self.current += 1 \n",
    "        return self.current ** 2 \n",
    "    "
   ]
  },
  {
   "cell_type": "code",
   "execution_count": 2,
   "id": "4a7955f9-eba9-44d5-b3e9-63b4c9ee8b38",
   "metadata": {},
   "outputs": [],
   "source": [
    "sq = Square(5)"
   ]
  },
  {
   "cell_type": "code",
   "execution_count": 17,
   "id": "207a7f9a-bd64-4c34-b92a-3ddca4d9fa12",
   "metadata": {},
   "outputs": [],
   "source": [
    "66.# what is the purpose of a getter method in python? Provide an example demostrating the use of a getter method using property decorators.\n",
    "\n",
    "#A getter method in python that allows you to access an attribute in a given class.They control to access the private variables in python.\n",
    "\n",
    "class Student:\n",
    "    def __init__(self,name,age):\n",
    "        self.__name = name\n",
    "        self.__age = age\n",
    "        \n",
    "    @property\n",
    "    def get_age(self):\n",
    "        return self.__age\n",
    "    "
   ]
  },
  {
   "cell_type": "code",
   "execution_count": 8,
   "id": "2d1dd1b1-12aa-4168-a382-33eaaccb5c8f",
   "metadata": {},
   "outputs": [],
   "source": [
    "stu = Student(\"Preeti\",32)"
   ]
  },
  {
   "cell_type": "code",
   "execution_count": 9,
   "id": "283075ab-212a-430f-b93e-4f7bc8495d30",
   "metadata": {},
   "outputs": [
    {
     "data": {
      "text/plain": [
       "32"
      ]
     },
     "execution_count": 9,
     "metadata": {},
     "output_type": "execute_result"
    }
   ],
   "source": [
    "stu.get_age"
   ]
  },
  {
   "cell_type": "code",
   "execution_count": 10,
   "id": "b1bd9047-e615-405c-83c4-db40c860b023",
   "metadata": {},
   "outputs": [],
   "source": [
    "67.# Expalin the role of setter methods in python. Demostrate how to use a setter method to modify a class attribute using property decorators?\n",
    "\n",
    "# A setter method that allows you to set or change the value of an attribute in a class.\n",
    "\n",
    "class Teacher:\n",
    "    def __init__(self,name,salary):\n",
    "        self.__name = name\n",
    "        self.__salary = salary\n",
    "        \n",
    "    @property\n",
    "    def get_salary(self):\n",
    "        return self.__salary\n",
    "    \n",
    "    @get_salary.setter\n",
    "    def salary_set(self,new_salary):\n",
    "         self.__salary = new_salary\n",
    "    \n",
    "    "
   ]
  },
  {
   "cell_type": "code",
   "execution_count": 11,
   "id": "5236778c-af0a-4d94-b25e-5d2a861fcc7c",
   "metadata": {},
   "outputs": [],
   "source": [
    "tech = Teacher(\"Sonali\",15000)"
   ]
  },
  {
   "cell_type": "code",
   "execution_count": 13,
   "id": "6f832b50-c79d-4efd-a069-d41b70828266",
   "metadata": {},
   "outputs": [
    {
     "data": {
      "text/plain": [
       "15000"
      ]
     },
     "execution_count": 13,
     "metadata": {},
     "output_type": "execute_result"
    }
   ],
   "source": [
    "tech.get_salary"
   ]
  },
  {
   "cell_type": "code",
   "execution_count": 14,
   "id": "a5872a48-2839-4b57-aa94-476433bb86ea",
   "metadata": {},
   "outputs": [],
   "source": [
    "tech.salary_set = 25000"
   ]
  },
  {
   "cell_type": "code",
   "execution_count": 15,
   "id": "65baa0a7-23f7-47ff-ae1c-d9b873bf65cb",
   "metadata": {},
   "outputs": [
    {
     "data": {
      "text/plain": [
       "25000"
      ]
     },
     "execution_count": 15,
     "metadata": {},
     "output_type": "execute_result"
    }
   ],
   "source": [
    "tech.get_salary"
   ]
  },
  {
   "cell_type": "code",
   "execution_count": 18,
   "id": "9e47816e-0a30-4308-ad86-21787b452fd2",
   "metadata": {},
   "outputs": [],
   "source": [
    "68.#what is the purpose of the @property decorator in python? Provide an example illustrating its usage.\n",
    "\n",
    "# @Proerty decorator is a built-in decorator in python.\n",
    "#It is used to define the property name in the class portal.\n",
    "#There are three methos: getter,setter and deleter.\n",
    "\n",
    "class Teacher:\n",
    "    def __init__(self,name,salary):\n",
    "        self.__name = name\n",
    "        self.__salary = salary\n",
    "        \n",
    "    @property\n",
    "    def get_salary(self):\n",
    "        return self.__salary"
   ]
  },
  {
   "cell_type": "code",
   "execution_count": 22,
   "id": "a1dd4a43-ea3e-49bf-a65b-6da66ea04299",
   "metadata": {},
   "outputs": [],
   "source": [
    "tec = Teacher(\"Ravina\",25000)"
   ]
  },
  {
   "cell_type": "code",
   "execution_count": 23,
   "id": "02e8b64d-7893-4197-8183-3c7ce3806527",
   "metadata": {},
   "outputs": [
    {
     "data": {
      "text/plain": [
       "25000"
      ]
     },
     "execution_count": 23,
     "metadata": {},
     "output_type": "execute_result"
    }
   ],
   "source": [
    "tech.get_salary"
   ]
  },
  {
   "cell_type": "code",
   "execution_count": 34,
   "id": "a56ddbc5-4e23-4482-95d1-3e7f4f03f585",
   "metadata": {},
   "outputs": [],
   "source": [
    "69.# Explain the use of the @deleter decorator in python property decorators.Provide a code example demostrating its applications.\n",
    "\n",
    "#The deleter method is used to delete the property of a class.Once the property is deleted it cann't be accessed using the same instance.\n",
    "\n",
    "class Teacher:\n",
    "    def __init__(self,name,salary):\n",
    "        self.__name = name\n",
    "        self.__salary = salary\n",
    "        \n",
    "    @property\n",
    "    def get_salary(self):\n",
    "        return self.__salary\n",
    "    \n",
    "    @get_salary.setter\n",
    "    def salary_set(self,new_salary):\n",
    "         self.__salary = new_salary\n",
    "    \n",
    "    @get_salary.setter\n",
    "    def salary_set(self,new_salary):\n",
    "         self.__salary = new_salary\n",
    "    \n",
    "    @get_salary.deleter\n",
    "    def del_salary(self):\n",
    "        del self.__salary\n",
    "\n"
   ]
  },
  {
   "cell_type": "code",
   "execution_count": 25,
   "id": "5ea5babe-9f05-44ae-aa8a-7229a3801d10",
   "metadata": {},
   "outputs": [],
   "source": [
    "t1 = Teacher(\"Manika\",20000)"
   ]
  },
  {
   "cell_type": "code",
   "execution_count": 26,
   "id": "4fe4ce6a-e835-4bbb-a85b-481b9964a3cc",
   "metadata": {},
   "outputs": [
    {
     "data": {
      "text/plain": [
       "20000"
      ]
     },
     "execution_count": 26,
     "metadata": {},
     "output_type": "execute_result"
    }
   ],
   "source": [
    "t1.get_salary"
   ]
  },
  {
   "cell_type": "code",
   "execution_count": 29,
   "id": "f969e302-0730-484c-9989-9b154e962b1d",
   "metadata": {},
   "outputs": [],
   "source": [
    "t1.salary_set = 22000"
   ]
  },
  {
   "cell_type": "code",
   "execution_count": 31,
   "id": "0652b80c-96ea-42ef-a593-aad8ce361288",
   "metadata": {},
   "outputs": [
    {
     "data": {
      "text/plain": [
       "20000"
      ]
     },
     "execution_count": 31,
     "metadata": {},
     "output_type": "execute_result"
    }
   ],
   "source": [
    "t1.get_salary"
   ]
  },
  {
   "cell_type": "code",
   "execution_count": 4,
   "id": "2757a4e0-87f9-4470-9353-897b477e9277",
   "metadata": {},
   "outputs": [
    {
     "ename": "NameError",
     "evalue": "name 't1' is not defined",
     "output_type": "error",
     "traceback": [
      "\u001b[0;31m---------------------------------------------------------------------------\u001b[0m",
      "\u001b[0;31mNameError\u001b[0m                                 Traceback (most recent call last)",
      "Cell \u001b[0;32mIn[4], line 1\u001b[0m\n\u001b[0;32m----> 1\u001b[0m \u001b[38;5;28;01mdel\u001b[39;00m \u001b[43mt1\u001b[49m\u001b[38;5;241m.\u001b[39mdel_salary\n",
      "\u001b[0;31mNameError\u001b[0m: name 't1' is not defined"
     ]
    }
   ],
   "source": [
    "del t1.del_salary"
   ]
  },
  {
   "cell_type": "code",
   "execution_count": null,
   "id": "2f2851f1-bddf-44e4-bddd-588dee40071c",
   "metadata": {},
   "outputs": [],
   "source": [
    "70.# How does encapsulation relate to property decorators in python? Provide an example showcasing encapsulation using property decorators.\n",
    "\n",
    "#It is mechanism to control access to class attributes."
   ]
  },
  {
   "cell_type": "code",
   "execution_count": null,
   "id": "1a634f97-cdbf-40f9-8675-d7dc85eaea09",
   "metadata": {},
   "outputs": [],
   "source": []
  },
  {
   "cell_type": "markdown",
   "id": "1940afb6-430d-4717-9b82-a905de02f2dc",
   "metadata": {},
   "source": [
    " "
   ]
  }
 ],
 "metadata": {
  "kernelspec": {
   "display_name": "Python 3 (ipykernel)",
   "language": "python",
   "name": "python3"
  },
  "language_info": {
   "codemirror_mode": {
    "name": "ipython",
    "version": 3
   },
   "file_extension": ".py",
   "mimetype": "text/x-python",
   "name": "python",
   "nbconvert_exporter": "python",
   "pygments_lexer": "ipython3",
   "version": "3.10.8"
  }
 },
 "nbformat": 4,
 "nbformat_minor": 5
}
